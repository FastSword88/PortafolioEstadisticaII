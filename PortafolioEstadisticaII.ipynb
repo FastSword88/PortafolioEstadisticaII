{
  "nbformat": 4,
  "nbformat_minor": 0,
  "metadata": {
    "colab": {
      "provenance": []
    },
    "kernelspec": {
      "name": "python3",
      "display_name": "Python 3"
    },
    "language_info": {
      "name": "python"
    }
  },
  "cells": [
    {
      "cell_type": "markdown",
      "source": [
        "#Unidad 1 PRUEBA DE MANN-WITHNEY"
      ],
      "metadata": {
        "id": "mUSHc60Ee9FR"
      }
    },
    {
      "cell_type": "markdown",
      "source": [
        "Se realizo una encuesta en Naucalpan de Juarez con una poblacion de 834,434 habitantes, en la que las candidatas, Claudia Sheinbaum y Xóchitl Gálvez, compiten por la presidencia de la republica. Según los datos, la tasa de participación en las elecciones es del 60%.\n",
        "Se desea determinar si hay una diferencia significativa en el número de votos obtenidos por cada candidato. Los porcentajes de votos esperados para cada candidata son los siguientes:\n",
        "\n",
        "*   Claudia Sheinbaum: 58% de los votos\n",
        "*   Xóchitl Gálvez: 33% de los votos\n",
        "\n",
        "Para resolver este problema, se realizará una prueba estadística no paramétrica, específicamente la prueba de Mann-Whitney, para comparar los votos entre ambos candidatos."
      ],
      "metadata": {
        "id": "qkvIr3XpftCx"
      }
    },
    {
      "cell_type": "markdown",
      "source": [
        "Primero usaremos la libreria scipy stats la cual ya incluye mann whitney entre sus funciones."
      ],
      "metadata": {
        "id": "qgCbFARpik-4"
      }
    },
    {
      "cell_type": "code",
      "execution_count": null,
      "metadata": {
        "colab": {
          "base_uri": "https://localhost:8080/"
        },
        "id": "bvgS6KV9KDaK",
        "outputId": "e7820837-d91f-4a2e-c1c4-2e3cdc1ad323"
      },
      "outputs": [
        {
          "output_type": "stream",
          "name": "stdout",
          "text": [
            "Votos para Claudia Sheinbaum: 290383.03199999995\n",
            "Votos para Xóchitl Gálvez: 165217.932\n",
            "\n",
            "Resultados de la prueba de Mann-Whitney:\n",
            "Estadístico de prueba: 1000000.0\n",
            "Valor p: 0.0\n",
            "\n",
            "Conclusión: Hay evidencia suficiente para rechazar la hipótesis nula.\n",
            "Los votos obtenidos por Claudia Sheinbaum y Xóchitl Gálvez son significativamente diferentes.\n"
          ]
        }
      ],
      "source": [
        "import numpy as np\n",
        "from scipy.stats import mannwhitneyu\n",
        "\n",
        "# Población total y participación\n",
        "poblacion_total = 834434\n",
        "participacion = 0.60\n",
        "\n",
        "# Votos por cada candidato\n",
        "votos_claudia = poblacion_total * participacion * 0.58\n",
        "votos_xochitl = poblacion_total * participacion * 0.33\n",
        "\n",
        "# Mostrar los votos calculados\n",
        "print(\"Votos para Claudia Sheinbaum:\", votos_claudia)\n",
        "print(\"Votos para Xóchitl Gálvez:\", votos_xochitl)\n",
        "\n",
        "# Realizar la prueba de Mann-Whitney\n",
        "statistic, p_value = mannwhitneyu(np.random.normal(votos_claudia, 1000, 1000), np.random.normal(votos_xochitl, 1000, 1000))\n",
        "\n",
        "# Mostrar los resultados de la prueba\n",
        "print(\"\\nResultados de la prueba de Mann-Whitney:\")\n",
        "print(\"Estadístico de prueba:\", statistic)\n",
        "print(\"Valor p:\", p_value)\n",
        "\n",
        "# Realizar conclusiones\n",
        "alpha = 0.05\n",
        "if p_value < alpha:\n",
        "    print(\"\\nConclusión: Hay evidencia suficiente para rechazar la hipótesis nula.\")\n",
        "    print(\"Los votos obtenidos por Claudia Sheinbaum y Xóchitl Gálvez son significativamente diferentes.\")\n",
        "else:\n",
        "    print(\"\\nConclusión: No hay suficiente evidencia para rechazar la hipótesis nula.\")\n",
        "    print(\"No se pueden hacer conclusiones significativas sobre la diferencia en los votos entre Claudia Sheinbaum y Xóchitl Gálvez.\")\n"
      ]
    },
    {
      "cell_type": "markdown",
      "source": [
        "Asimismo realizaremos el codigo sin usar scipy"
      ],
      "metadata": {
        "id": "0c4QgJ7Sp_kQ"
      }
    },
    {
      "cell_type": "code",
      "source": [
        "import numpy as np\n",
        "\n",
        "# Función para calcular el estadístico U de Mann-Whitney\n",
        "def mannwhitneyu_manual(x, y):\n",
        "    n1 = len(x)\n",
        "    n2 = len(y)\n",
        "    ranked = np.argsort(np.concatenate((x, y)))\n",
        "    ranks = np.empty_like(ranked)\n",
        "    ranks[ranked] = np.arange(1, n1 + n2 + 1)\n",
        "    ranks_x = ranks[:n1]\n",
        "    ranks_y = ranks[n1:]\n",
        "\n",
        "    U1 = np.sum(ranks_x) - (n1 * (n1 + 1)) / 2\n",
        "    U2 = np.sum(ranks_y) - (n2 * (n2 + 1)) / 2\n",
        "    U = min(U1, U2)\n",
        "\n",
        "    # Calcular la media y desviación estándar de U\n",
        "    mu_U = n1 * n2 / 2\n",
        "    sigma_U = np.sqrt(n1 * n2 * (n1 + n2 + 1) / 12)\n",
        "\n",
        "    # Calcular el valor Z\n",
        "    Z = (U - mu_U) / sigma_U\n",
        "\n",
        "    # Calcular el valor p para una cola\n",
        "    from scipy.stats import norm\n",
        "    p_value = norm.cdf(Z)\n",
        "\n",
        "    return U, p_value\n",
        "\n",
        "# Población total y participación\n",
        "poblacion_total = 834434\n",
        "participacion = 0.60\n",
        "\n",
        "# Votos por cada candidato\n",
        "votos_claudia = poblacion_total * participacion * 0.58\n",
        "votos_xochitl = poblacion_total * participacion * 0.33\n",
        "\n",
        "# Mostrar los votos calculados\n",
        "print(\"Votos para Claudia Sheinbaum:\", votos_claudia)\n",
        "print(\"Votos para Xóchitl Gálvez:\", votos_xochitl)\n",
        "\n",
        "# Generar las muestras\n",
        "muestra_claudia = np.random.normal(votos_claudia, 1000, 1000)\n",
        "muestra_xochitl = np.random.normal(votos_xochitl, 1000, 1000)\n",
        "\n",
        "# Realizar la prueba de Mann-Whitney manualmente\n",
        "statistic, p_value = mannwhitneyu_manual(muestra_claudia, muestra_xochitl)\n",
        "\n",
        "# Mostrar los resultados de la prueba\n",
        "print(\"\\nResultados de la prueba de Mann-Whitney:\")\n",
        "print(\"Estadístico de prueba:\", statistic)\n",
        "print(\"Valor p:\", p_value)\n",
        "\n",
        "# Realizar conclusiones\n",
        "alpha = 0.05\n",
        "if p_value < alpha:\n",
        "    print(\"\\nConclusión: Hay evidencia suficiente para rechazar la hipótesis nula.\")\n",
        "    print(\"Los votos obtenidos por Claudia Sheinbaum y Xóchitl Gálvez son significativamente diferentes.\")\n",
        "else:\n",
        "    print(\"\\nConclusión: No hay suficiente evidencia para rechazar la hipótesis nula.\")\n",
        "    print(\"No se pueden hacer conclusiones significativas sobre la diferencia en los votos entre Claudia Sheinbaum y Xóchitl Gálvez.\")\n"
      ],
      "metadata": {
        "colab": {
          "base_uri": "https://localhost:8080/"
        },
        "id": "jl0oDUm8fApL",
        "outputId": "7d13c41c-41fc-4c33-8c57-149a3b6086ca"
      },
      "execution_count": null,
      "outputs": [
        {
          "output_type": "stream",
          "name": "stdout",
          "text": [
            "Votos para Claudia Sheinbaum: 290383.03199999995\n",
            "Votos para Xóchitl Gálvez: 165217.932\n",
            "\n",
            "Resultados de la prueba de Mann-Whitney:\n",
            "Estadístico de prueba: 0.0\n",
            "Valor p: 0.0\n",
            "\n",
            "Conclusión: Hay evidencia suficiente para rechazar la hipótesis nula.\n",
            "Los votos obtenidos por Claudia Sheinbaum y Xóchitl Gálvez son significativamente diferentes.\n"
          ]
        }
      ]
    },
    {
      "cell_type": "markdown",
      "source": [
        "#Unidad 2 TEOREMA DE BAYES PARA UNA DISTRIBUCIÓN POISSON"
      ],
      "metadata": {
        "id": "W65ZXxD1qRFI"
      }
    },
    {
      "cell_type": "markdown",
      "source": [
        "En un período de oleada de calor, Ciel está analizando el comportamiento de ventas en diferentes ciudades. La cantidad de ventas de botellas de agua por día sigue una distribución Poisson con diferentes tasas en cada ciudad. Se han determinado los siguientes posibles valores para las tasas de ventas diarias (en miles de botellas):\n",
        "\n",
        "*   5, 6, 7, 8, 9, 10, 5, 6, 7, 8, 9, 10.\n",
        "\n",
        "\n",
        "Basado en datos históricos, las probabilidades a priori para estas tasas son:\n",
        "\n",
        "*  0.1, 0.2, 0.3, 0.2, 0.1, 0.1\n",
        "\n",
        "Utilizar el teorema de Bayes para actualizar la probabilidad a priori de las tasas de ventas después de observar los siguientes datos preliminares:\n",
        "\n",
        "En la primera ciudad, se observan 8 mil botellas vendidas en un día.\n",
        "\n",
        "En la segunda ciudad, se observan 4 mil botellas vendidas en un día.\n"
      ],
      "metadata": {
        "id": "YfqgFDP1vayp"
      }
    },
    {
      "cell_type": "code",
      "source": [
        "import numpy as np\n",
        "from scipy.stats import poisson\n",
        "\n",
        "# Tasas de ventas posibles (en miles de botellas por día)\n",
        "lambdas_ventas = np.array([5, 6, 7, 8, 9, 10])\n",
        "\n",
        "# Probabilidades a priori para cada tasa\n",
        "priors_ventas = np.array([0.1, 0.2, 0.3, 0.2, 0.1, 0.1])\n",
        "\n",
        "# Datos observados para las dos ciudades (en miles de botellas vendidas por día)\n",
        "observaciones_ventas = [8, 4]\n",
        "\n",
        "def bayes_update(lambdas, priors, observacion):\n",
        "    # Calcular la verosimilitud P(Y=y | λ)\n",
        "    likelihoods = poisson.pmf(observacion, lambdas)\n",
        "\n",
        "    # Calcular la probabilidad posterior P(λ | Y=y)\n",
        "    posteriors = likelihoods * priors\n",
        "    posteriors /= np.sum(posteriors)  # Normalizar\n",
        "\n",
        "    return posteriors\n",
        "\n",
        "# Calcular la distribución posterior para las observaciones\n",
        "posterior_Y8 = bayes_update(lambdas_ventas, priors_ventas, observaciones_ventas[0])\n",
        "posterior_Y4 = bayes_update(lambdas_ventas, priors_ventas, observaciones_ventas[1])\n",
        "\n",
        "print(\"Distribución posterior para Y=8 (primera ciudad):\")\n",
        "for lam, post in zip(lambdas_ventas, posterior_Y8):\n",
        "    print(f\"λ={lam}: {post:.4f}\")\n",
        "\n",
        "print(\"\\nDistribución posterior para Y=4 (segunda ciudad):\")\n",
        "for lam, post in zip(lambdas_ventas, posterior_Y4):\n",
        "    print(f\"λ={lam}: {post:.4f}\")\n"
      ],
      "metadata": {
        "colab": {
          "base_uri": "https://localhost:8080/"
        },
        "id": "Fih8X0WoqhOn",
        "outputId": "3a5047e2-f75e-401c-beb3-1251885e7631"
      },
      "execution_count": null,
      "outputs": [
        {
          "output_type": "stream",
          "name": "stdout",
          "text": [
            "Distribución posterior para Y=8 (primera ciudad):\n",
            "λ=5: 0.0550\n",
            "λ=6: 0.1741\n",
            "λ=7: 0.3297\n",
            "λ=8: 0.2353\n",
            "λ=9: 0.1110\n",
            "λ=10: 0.0949\n",
            "\n",
            "Distribución posterior para Y=4 (segunda ciudad):\n",
            "λ=5: 0.1985\n",
            "λ=6: 0.3028\n",
            "λ=7: 0.3096\n",
            "λ=8: 0.1295\n",
            "λ=9: 0.0382\n",
            "λ=10: 0.0214\n"
          ]
        }
      ]
    },
    {
      "cell_type": "markdown",
      "source": [
        "#Unidad 3 TEOREMA DE BAYES PARA LA MEDIA NORMAL CON PRIOR DISCRETA"
      ],
      "metadata": {
        "id": "_i7IvM3lzP9Z"
      }
    },
    {
      "cell_type": "markdown",
      "source": [
        "Durante una ola de calor en México, un investigador desea determinar el consumo promedio diario de agua en litros por hogar en una ciudad. Se asume que el consumo diario sigue una distribución normal con una desviación estándar conocida igual a 25 litros. Se recolectan 12 muestras de consumo de agua, resultando en los siguientes valores en litros por hogar por día: 180, 220, 210, 230, 190, 200, 215, 225, 210, 195, 205, 200. El investigador decide usar una distribución a priori discreta uniforme para los valores posibles del consumo promedio: 160, 170, 180, 190, 200, 210, 220, y 230 litros por hogar por día. Se pide encontrar la distribución posterior para estos valores."
      ],
      "metadata": {
        "id": "Q58LToUy1bKj"
      }
    },
    {
      "cell_type": "code",
      "source": [
        "import numpy as np\n",
        "from scipy.stats import norm\n",
        "\n",
        "# Parámetros conocidos\n",
        "sigma = 25\n",
        "muestras = np.array([180, 220, 210, 230, 190, 200, 215, 225, 210, 195, 205, 200])\n",
        "n = len(muestras)\n",
        "mu_values = np.array([160, 170, 180, 190, 200, 210, 220, 230])\n",
        "priors = np.ones(len(mu_values)) / len(mu_values)  # Prior uniforme\n",
        "\n",
        "# Calcular la verosimilitud para cada valor de mu\n",
        "def likelihood(mu, muestras, sigma):\n",
        "    return np.prod(norm.pdf(muestras, loc=mu, scale=sigma))\n",
        "\n",
        "likelihoods = np.array([likelihood(mu, muestras, sigma) for mu in mu_values])\n",
        "\n",
        "# Calcular la posteriori\n",
        "posteriors = likelihoods * priors\n",
        "posteriors /= np.sum(posteriors)  # Normalizar\n",
        "\n",
        "print(\"Distribución posterior para cada valor de mu:\")\n",
        "for mu, post in zip(mu_values, posteriors):\n",
        "    print(f\"mu={mu}: {post:.4f}\")\n"
      ],
      "metadata": {
        "colab": {
          "base_uri": "https://localhost:8080/"
        },
        "id": "4NPPe-tezfdE",
        "outputId": "40249413-0ab5-4661-dcb2-4feebf12c73e"
      },
      "execution_count": null,
      "outputs": [
        {
          "output_type": "stream",
          "name": "stdout",
          "text": [
            "Distribución posterior para cada valor de mu:\n",
            "mu=160: 0.0000\n",
            "mu=170: 0.0000\n",
            "mu=180: 0.0006\n",
            "mu=190: 0.0384\n",
            "mu=200: 0.3608\n",
            "mu=210: 0.4969\n",
            "mu=220: 0.1003\n",
            "mu=230: 0.0030\n"
          ]
        }
      ]
    },
    {
      "cell_type": "markdown",
      "source": [
        "#Unidad 4 COMPARACIÓN DE ENFOQUE FRECUENTISTA Y ENFOQUE BAYESIANO"
      ],
      "metadata": {
        "id": "izJ8u0Ht4Y2S"
      }
    },
    {
      "cell_type": "markdown",
      "source": [
        "Durante una ola de calor en México, un equipo de meteorólogos desea determinar la temperatura promedio diaria en grados Celsius en una ciudad. Se recolectan 15 muestras de temperatura, resultando en los siguientes valores: 32, 35, 33, 36, 34, 37, 36, 38, 35, 33, 34, 35, 36, 37, 36. Se sabe que la temperatura sigue una distribución normal con una desviación estándar conocida de 2 grados Celsius. El equipo de meteorólogos establece una priori normal con una media de 35 grados Celsius y una desviación estándar de 1 grado Celsius. Se pide:\n",
        "\n",
        "A) Obtener la distribución posterior para la temperatura promedio diaria.\n",
        "\n",
        "B) Calcular un intervalo de confianza del 95% para la media posterior.\n",
        "\n",
        "C) Realizar una prueba de hipótesis donde μ≥36 (la temperatura promedio es mayor o igual a 36 grados Celsius)."
      ],
      "metadata": {
        "id": "G8CFnmA_6V6C"
      }
    },
    {
      "cell_type": "code",
      "source": [
        "import numpy as np\n",
        "from scipy.stats import norm\n",
        "\n",
        "# Datos de las muestras\n",
        "muestras = np.array([32, 35, 33, 36, 34, 37, 36, 38, 35, 33, 34, 35, 36, 37, 36])\n",
        "n = len(muestras)\n",
        "\n",
        "# Parámetros conocidos\n",
        "sigma = 2  # Desviación estándar conocida\n",
        "mu_prior = 35  # Media de la priori normal\n",
        "sigma_prior = 1  # Desviación estándar de la priori normal\n",
        "\n",
        "# A) Calcular la distribución posterior\n",
        "mu_posterior = (mu_prior / sigma_prior**2 + np.sum(muestras) / sigma**2) / (1 / sigma_prior**2 + n / sigma**2)\n",
        "sigma_posterior = np.sqrt(1 / (1 / sigma_prior**2 + n / sigma**2))\n",
        "\n",
        "print(\"A) Distribución posterior:\")\n",
        "print(\"Media posterior:\", mu_posterior)\n",
        "print(\"Desviación estándar posterior:\", sigma_posterior)\n",
        "\n",
        "# B) Calcular un intervalo de confianza del 95% para la media posterior\n",
        "z = norm.ppf(0.975)  # Estadístico z para el nivel de confianza del 95%\n",
        "intervalo = (mu_posterior - z * sigma_posterior, mu_posterior + z * sigma_posterior)\n",
        "\n",
        "print(\"\\nB) Intervalo de confianza del 95% para la media posterior:\")\n",
        "print(\"Intervalo:\", intervalo)\n",
        "\n",
        "# C) Realizar una prueba de hipótesis donde µ ≥ 36\n",
        "z_hipotesis = (mu_posterior - 36) / sigma_posterior  # Estadístico z para la hipótesis\n",
        "p_value = 1 - norm.cdf(z_hipotesis)  # Calcular el valor p\n",
        "\n",
        "print(\"\\nC) Prueba de hipótesis donde µ ≥ 36:\")\n",
        "print(\"Estadístico z:\", z_hipotesis)\n",
        "print(\"Valor p:\", p_value)\n"
      ],
      "metadata": {
        "colab": {
          "base_uri": "https://localhost:8080/"
        },
        "id": "VdreFtCb4fEI",
        "outputId": "3faf02e9-506c-4ad7-96f3-36d7ddd6b747"
      },
      "execution_count": null,
      "outputs": [
        {
          "output_type": "stream",
          "name": "stdout",
          "text": [
            "A) Distribución posterior:\n",
            "Media posterior: 35.10526315789474\n",
            "Desviación estándar posterior: 0.45883146774112354\n",
            "\n",
            "B) Intervalo de confianza del 95% para la media posterior:\n",
            "Intervalo: (34.20597000614848, 36.004556309640996)\n",
            "\n",
            "C) Prueba de hipótesis donde µ ≥ 36:\n",
            "Estadístico z: -1.9500337378997685\n",
            "Valor p: 0.974413951012445\n"
          ]
        }
      ]
    },
    {
      "cell_type": "markdown",
      "source": [
        "#Unidad 5 ANÁLISIS DE VARIANZA EN EL DISEÑO DE EXPERIMENTOS"
      ],
      "metadata": {
        "id": "0Y9vukTT8Web"
      }
    },
    {
      "cell_type": "markdown",
      "source": [
        "Un equipo de investigadores está llevando a cabo un estudio sobre el efecto de diferentes métodos de enfriamiento en el alivio de la temperatura durante una ola de calor en México. Deciden utilizar un diseño completamente aleatorizado para asignar aleatoriamente los métodos de enfriamiento a diferentes grupos de personas.\n",
        "\n",
        "El estudio se realiza en una ciudad afectada por la ola de calor. Se seleccionan tres métodos de enfriamiento diferentes: Aire acondicionado, Ventilador y Rociadores de agua. El equipo de investigadores decide asignar aleatoriamente a los residentes de la ciudad a cada uno de los tres grupos de tratamiento. Después de un período de tiempo, se registra la temperatura corporal de cada participante.\n",
        "\n",
        "Los datos recolectados son los siguientes:\n",
        "\n",
        "Grupo de tratamiento A (Aire acondicionado):\n",
        "Temperaturas corporales (en °C): 36.5, 36.3, 36.2, 36.4, 36.6, 36.1, 36.3, 36.2, 36.4, 36.5.\n",
        "\n",
        "Grupo de tratamiento B (Ventilador):\n",
        "Temperaturas corporales (en °C): 36.8, 36.9, 36.7, 36.6, 36.5, 36.7, 36.9, 36.8, 36.6, 36.5.\n",
        "\n",
        "Grupo de tratamiento C (Rociadores de agua):\n",
        "Temperaturas corporales (en °C): 36.4, 36.2, 36.1, 36.3, 36.5, 36.0, 36.2, 36.4, 36.3, 36.1.\n",
        "\n",
        "El equipo de investigadores desea analizar si existe alguna diferencia significativa en la temperatura corporal entre los tres grupos de tratamiento."
      ],
      "metadata": {
        "id": "OQdZ0TG0Di56"
      }
    },
    {
      "cell_type": "code",
      "source": [
        "import numpy as np\n",
        "\n",
        "# Datos de temperaturas corporales por grupo de tratamiento\n",
        "tratamiento_A = np.array([36.5, 36.3, 36.2, 36.4, 36.6, 36.1, 36.3, 36.2, 36.4, 36.5])\n",
        "tratamiento_B = np.array([36.8, 36.9, 36.7, 36.6, 36.5, 36.7, 36.9, 36.8, 36.6, 36.5])\n",
        "tratamiento_C = np.array([36.4, 36.2, 36.1, 36.3, 36.5, 36.0, 36.2, 36.4, 36.3, 36.1])\n",
        "\n",
        "# Calcular la media de cada grupo\n",
        "media_A = np.mean(tratamiento_A)\n",
        "media_B = np.mean(tratamiento_B)\n",
        "media_C = np.mean(tratamiento_C)\n",
        "\n",
        "# Calcular la media general\n",
        "media_general = np.mean(np.concatenate([tratamiento_A, tratamiento_B, tratamiento_C]))\n",
        "\n",
        "# Calcular la suma de los cuadrados entre grupos (SSB)\n",
        "SSB = len(tratamiento_A) * (media_A - media_general)**2 + \\\n",
        "      len(tratamiento_B) * (media_B - media_general)**2 + \\\n",
        "      len(tratamiento_C) * (media_C - media_general)**2\n",
        "\n",
        "# Calcular la suma de los cuadrados dentro de grupos (SSW)\n",
        "SSW = np.sum((tratamiento_A - media_A)**2) + \\\n",
        "      np.sum((tratamiento_B - media_B)**2) + \\\n",
        "      np.sum((tratamiento_C - media_C)**2)\n",
        "\n",
        "# Calcular el estadístico F\n",
        "grados_libertad_entre = 3 - 1\n",
        "grados_libertad_dentro = len(tratamiento_A) + len(tratamiento_B) + len(tratamiento_C) - 3\n",
        "estadistico_F = (SSB / grados_libertad_entre) / (SSW / grados_libertad_dentro)\n",
        "\n",
        "# Calcular el valor p utilizando la distribución F\n",
        "from scipy.stats import f\n",
        "\n",
        "valor_p = 1 - f.cdf(estadistico_F, grados_libertad_entre, grados_libertad_dentro)\n",
        "\n",
        "print(\"Resultado del ANOVA:\")\n",
        "print(\"Estadístico F:\", estadistico_F)\n",
        "print(\"Valor p:\", valor_p)\n"
      ],
      "metadata": {
        "colab": {
          "base_uri": "https://localhost:8080/"
        },
        "id": "plpZcvdQ8dCn",
        "outputId": "de2c6773-2034-4274-d75c-dbcca026bf32"
      },
      "execution_count": null,
      "outputs": [
        {
          "output_type": "stream",
          "name": "stdout",
          "text": [
            "Resultado del ANOVA:\n",
            "Estadístico F: 23.19230769230792\n",
            "Valor p: 1.3732291500589966e-06\n"
          ]
        }
      ]
    },
    {
      "cell_type": "code",
      "source": [
        "import numpy as np\n",
        "\n",
        "# Datos de temperaturas corporales por grupo de tratamiento\n",
        "tratamiento_A = np.array([36.5, 36.3, 36.2, 36.4, 36.6, 36.1, 36.3, 36.2, 36.4, 36.5])\n",
        "tratamiento_B = np.array([36.8, 36.9, 36.7, 36.6, 36.5, 36.7, 36.9, 36.8, 36.6, 36.5])\n",
        "tratamiento_C = np.array([36.4, 36.2, 36.1, 36.3, 36.5, 36.0, 36.2, 36.4, 36.3, 36.1])\n",
        "\n",
        "# Concatenar todas las muestras\n",
        "todas_las_muestras = np.concatenate([tratamiento_A, tratamiento_B, tratamiento_C])\n",
        "\n",
        "# Crear etiquetas de grupo\n",
        "etiquetas_grupo = np.repeat(['A', 'B', 'C'], [len(tratamiento_A), len(tratamiento_B), len(tratamiento_C)])\n",
        "\n",
        "# Calcular las medias de cada grupo\n",
        "medias_grupo = np.array([np.mean(tratamiento_A), np.mean(tratamiento_B), np.mean(tratamiento_C)])\n",
        "\n",
        "# Calcular la media general\n",
        "media_general = np.mean(todas_las_muestras)\n",
        "\n",
        "# Calcular las diferencias entre las medias de cada grupo y la media general\n",
        "diferencias = medias_grupo - media_general\n",
        "\n",
        "# Calcular el error estándar de las diferencias\n",
        "error_estandar_diferencias = np.sqrt((2 / len(tratamiento_A) + 2 / len(tratamiento_B) + 2 / len(tratamiento_C)) * np.var(todas_las_muestras))\n",
        "\n",
        "# Calcular los intervalos de confianza ajustados (método Tukey)\n",
        "from statsmodels.stats.libqsturng import psturng\n",
        "\n",
        "# Nivel de confianza del 95%\n",
        "nivel_confianza = 0.95\n",
        "\n",
        "# Calcular los intervalos de confianza\n",
        "intervalos_confianza = np.column_stack((diferencias - error_estandar_diferencias * psturng(np.abs(diferencias) / error_estandar_diferencias, 3, len(todas_las_muestras) - 3),\n",
        "                                        diferencias + error_estandar_diferencias * psturng(np.abs(diferencias) / error_estandar_diferencias, 3, len(todas_las_muestras) - 3)))\n",
        "\n",
        "print(\"\\nResultados de la prueba de Tukey:\")\n",
        "print(\"Intervalos de confianza ajustados:\")\n",
        "for i, grupo in enumerate(['A', 'B', 'C']):\n",
        "    print(f\"Grupo {grupo}: {intervalos_confianza[i]}\")\n"
      ],
      "metadata": {
        "colab": {
          "base_uri": "https://localhost:8080/"
        },
        "id": "UKFgkmzJEOX0",
        "outputId": "abe2d1cb-8d3e-41ec-af42-1dce56fdd4b0"
      },
      "execution_count": null,
      "outputs": [
        {
          "output_type": "stream",
          "name": "stdout",
          "text": [
            "\n",
            "Resultados de la prueba de Tukey:\n",
            "Intervalos de confianza ajustados:\n",
            "Grupo A: [-0.2525078   0.08584113]\n",
            "Grupo B: [0.15808511 0.37524823]\n",
            "Grupo C: [-0.32554295 -0.04112371]\n"
          ]
        }
      ]
    },
    {
      "cell_type": "markdown",
      "source": [
        "Asimismo se realizo un codigo el cual aprovecha las librerias de python"
      ],
      "metadata": {
        "id": "Oniy5-izEYka"
      }
    },
    {
      "cell_type": "code",
      "source": [
        "from scipy.stats import f_oneway\n",
        "from statsmodels.stats.multicomp import pairwise_tukeyhsd\n",
        "import numpy as np\n",
        "\n",
        "# Datos de temperaturas corporales por grupo de tratamiento\n",
        "tratamiento_A = np.array([36.5, 36.3, 36.2, 36.4, 36.6, 36.1, 36.3, 36.2, 36.4, 36.5])\n",
        "tratamiento_B = np.array([36.8, 36.9, 36.7, 36.6, 36.5, 36.7, 36.9, 36.8, 36.6, 36.5])\n",
        "tratamiento_C = np.array([36.4, 36.2, 36.1, 36.3, 36.5, 36.0, 36.2, 36.4, 36.3, 36.1])\n",
        "\n",
        "# Realizar ANOVA\n",
        "f_statistic, p_value = f_oneway(tratamiento_A, tratamiento_B, tratamiento_C)\n",
        "\n",
        "print(\"Resultado del ANOVA:\")\n",
        "print(\"Estadístico F:\", f_statistic)\n",
        "print(\"Valor p:\", p_value)\n",
        "\n",
        "# Realizar pruebas de comparaciones múltiples (Tukey)\n",
        "temperaturas = np.concatenate([tratamiento_A, tratamiento_B, tratamiento_C])\n",
        "grupos = ['A'] * len(tratamiento_A) + ['B'] * len(tratamiento_B) + ['C'] * len(tratamiento_C)\n",
        "\n",
        "tukey_resultados = pairwise_tukeyhsd(temperaturas, grupos)\n",
        "\n",
        "print(\"\\nResultados de la prueba de Tukey:\")\n",
        "print(tukey_resultados)\n"
      ],
      "metadata": {
        "colab": {
          "base_uri": "https://localhost:8080/"
        },
        "id": "WT8NM6xWEdrQ",
        "outputId": "ad25f813-bc03-493b-d580-d2c32e1da799"
      },
      "execution_count": null,
      "outputs": [
        {
          "output_type": "stream",
          "name": "stdout",
          "text": [
            "Resultado del ANOVA:\n",
            "Estadístico F: 23.19230769230794\n",
            "Valor p: 1.373229150049857e-06\n",
            "\n",
            "Resultados de la prueba de Tukey:\n",
            "Multiple Comparison of Means - Tukey HSD, FWER=0.05\n",
            "==================================================\n",
            "group1 group2 meandiff p-adj  lower  upper  reject\n",
            "--------------------------------------------------\n",
            "     A      B     0.35 0.0001  0.178  0.522   True\n",
            "     A      C     -0.1 0.3347 -0.272  0.072  False\n",
            "     B      C    -0.45    0.0 -0.622 -0.278   True\n",
            "--------------------------------------------------\n"
          ]
        }
      ]
    },
    {
      "cell_type": "markdown",
      "source": [
        "##Unidad 6 ANALISIS DE REGRESION LINEAL"
      ],
      "metadata": {
        "id": "Kn-dWQkRSME6"
      }
    },
    {
      "cell_type": "markdown",
      "source": [
        "Durante una ola de calor en México, se ha observado que la temperatura máxima diaria está influenciada por varios factores como la humedad, la velocidad del viento, la presión atmosférica y la radiación solar. El objetivo es construir un modelo de regresión lineal múltiple para predecir la temperatura máxima diaria en función de estos factores.\n",
        "\n",
        "Variables del Problema\n",
        "Temperatura Máxima (Y): Variable dependiente, en grados Celsius.\n",
        "Humedad (X1): Variable independiente, en porcentaje.\n",
        "Velocidad del Viento (X2): Variable independiente, en km/h.\n",
        "Presión Atmosférica (X3): Variable independiente, en hPa.\n",
        "Radiación Solar (X4): Variable independiente, en W/m²."
      ],
      "metadata": {
        "id": "0Wdrlnl2UnBy"
      }
    },
    {
      "cell_type": "code",
      "source": [
        "import numpy as np\n",
        "import pandas as pd\n",
        "from sklearn.model_selection import train_test_split\n",
        "from sklearn.linear_model import LinearRegression\n",
        "from sklearn.metrics import mean_squared_error, r2_score\n",
        "import matplotlib.pyplot as plt\n",
        "\n",
        "# Generar datos aleatorios\n",
        "np.random.seed(0)\n",
        "num_samples = 100\n",
        "\n",
        "# Variables independientes\n",
        "humedad = np.random.randint(40, 80, num_samples)\n",
        "velocidad_viento = np.random.randint(5, 25, num_samples)\n",
        "presion = np.random.randint(1000, 1025, num_samples)\n",
        "radiacion_solar = np.random.randint(700, 900, num_samples)\n",
        "\n",
        "# Variable dependiente (creamos una relación ficticia con un poco de ruido)\n",
        "temperatura_max = 0.3 * humedad + 0.5 * velocidad_viento - 0.2 * presion + 0.7 * radiacion_solar + np.random.normal(0, 10, num_samples)\n",
        "\n",
        "# Crear un DataFrame\n",
        "data = pd.DataFrame({\n",
        "    'humedad': humedad,\n",
        "    'velocidad_viento': velocidad_viento,\n",
        "    'presion': presion,\n",
        "    'radiacion_solar': radiacion_solar,\n",
        "    'temperatura_max': temperatura_max\n",
        "})\n",
        "\n",
        "# Separar las variables independientes (X) y la variable dependiente (Y)\n",
        "X = data[['humedad', 'velocidad_viento', 'presion', 'radiacion_solar']]\n",
        "Y = data['temperatura_max']\n",
        "\n",
        "# Dividir los datos en conjuntos de entrenamiento y prueba\n",
        "X_train, X_test, Y_train, Y_test = train_test_split(X, Y, test_size=0.2, random_state=0)\n",
        "\n",
        "# Crear el modelo de regresión lineal\n",
        "model = LinearRegression()\n",
        "\n",
        "# Entrenar el modelo\n",
        "model.fit(X_train, Y_train)\n",
        "\n",
        "# Hacer predicciones con el conjunto de prueba\n",
        "Y_pred = model.predict(X_test)\n",
        "\n",
        "# Calcular el error cuadrático medio\n",
        "mse = mean_squared_error(Y_test, Y_pred)\n",
        "\n",
        "# Calcular el coeficiente de determinación (R^2)\n",
        "r2 = r2_score(Y_test, Y_pred)\n",
        "\n",
        "print('Error cuadrático medio:', mse)\n",
        "print('Coeficiente de determinación (R^2):', r2)\n",
        "\n",
        "# Imprimir los coeficientes del modelo\n",
        "print('Intercepto:', model.intercept_)\n",
        "print('Coeficientes:', model.coef_)\n",
        "\n",
        "# Visualización de los resultados\n",
        "plt.scatter(Y_test, Y_pred)\n",
        "plt.xlabel('Valores Reales')\n",
        "plt.ylabel('Predicciones')\n",
        "plt.title('Valores Reales vs Predicciones')\n",
        "plt.show()\n"
      ],
      "metadata": {
        "colab": {
          "base_uri": "https://localhost:8080/",
          "height": 541
        },
        "id": "HexMiWR2SZJ5",
        "outputId": "48a52c06-29da-4c3b-a224-e544711170af"
      },
      "execution_count": 1,
      "outputs": [
        {
          "output_type": "stream",
          "name": "stdout",
          "text": [
            "Error cuadrático medio: 68.78450071059873\n",
            "Coeficiente de determinación (R^2): 0.9435261135577693\n",
            "Intercepto: -76.94411129160852\n",
            "Coeficientes: [ 0.42798589  0.38075913 -0.14841974  0.72094705]\n"
          ]
        },
        {
          "output_type": "display_data",
          "data": {
            "text/plain": [
              "<Figure size 640x480 with 1 Axes>"
            ],
            "image/png": "[encoded data removed]"
          },
          "metadata": {}
        }
      ]
    }
  ]
}